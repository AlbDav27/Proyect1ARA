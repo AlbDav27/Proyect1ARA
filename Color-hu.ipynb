{
  "nbformat": 4,
  "nbformat_minor": 0,
  "metadata": {
    "colab": {
      "name": "Color-hu.ipynb",
      "provenance": []
    },
    "kernelspec": {
      "display_name": "Python 3",
      "language": "python",
      "name": "python3"
    },
    "language_info": {
      "codemirror_mode": {
        "name": "ipython",
        "version": 3
      },
      "file_extension": ".py",
      "mimetype": "text/x-python",
      "name": "python",
      "nbconvert_exporter": "python",
      "pygments_lexer": "ipython3",
      "version": "3.6.6"
    }
  },
  "cells": [
    {
      "cell_type": "markdown",
      "metadata": {
        "id": "IyNd9nhU-v89"
      },
      "source": [
        "# Segmentación de Figuras\n",
        "\n",
        "- Color\n",
        "    <img src='https://github.com/AlbDav27/Proyect1ARA_ML/blob/main/Colors.png?raw=1' />\n",
        "- Forma  \n",
        "    <img src='https://github.com/AlbDav27/Proyect1ARA_ML/blob/main/form.png?raw=1' />\n",
        "\n",
        "## Importar  librerias "
      ]
    },
    {
      "cell_type": "code",
      "metadata": {
        "id": "19BNjm8L-v8_"
      },
      "source": [
        "import numpy as np\n",
        "import matplotlib.pyplot as plt\n",
        "import matplotlib.image as mpimg\n",
        "%matplotlib inline\n",
        "from PIL import Image,ImageOps\n",
        "import os\n",
        "import math\n",
        "import json\n",
        "from io import StringIO\n",
        "import skimage as ski\n",
        "from skimage import data, io, filters"
      ],
      "execution_count": 3,
      "outputs": []
    },
    {
      "cell_type": "markdown",
      "metadata": {
        "id": "lFX87KhG-v9G"
      },
      "source": [
        "### Lectura de archivo de imágenes "
      ]
    },
    {
      "cell_type": "code",
      "metadata": {
        "id": "H-u4-q6o-v9H"
      },
      "source": [
        "Blue=os.path.join(\"Proyect1ARA_ML/images/Azul.png\")\n",
        "Black=os.path.join(\"Proyect1ARA_ML/images/Negro.png\")\n",
        "Red=os.path.join(\"Proyect1ARA_ML/images/Rojo.png\")"
      ],
      "execution_count": 12,
      "outputs": []
    },
    {
      "cell_type": "code",
      "metadata": {
        "id": "aDOYN2jA-v9M"
      },
      "source": [
        "Bl = Image.open(Blue)\n",
        "Bk = Image.open(Black)\n",
        "Rd = Image.open(Red)"
      ],
      "execution_count": 13,
      "outputs": []
    },
    {
      "cell_type": "markdown",
      "metadata": {
        "id": "Vi7ydUBl-v9Q"
      },
      "source": [
        "## Analizamos los datos "
      ]
    },
    {
      "cell_type": "code",
      "metadata": {
        "colab": {
          "base_uri": "https://localhost:8080/",
          "height": 217
        },
        "id": "kuedIy-T-v9Q",
        "outputId": "a277a391-627d-482f-fd5c-f18ddef76171"
      },
      "source": [
        "Bk"
      ],
      "execution_count": 14,
      "outputs": [
        {
          "output_type": "execute_result",
          "data": {
            "image/png": "[encoded data removed]",
            "text/plain": [
              "<PIL.PngImagePlugin.PngImageFile image mode=RGBA size=200x200 at 0x7F0E104C96D0>"
            ]
          },
          "metadata": {
            "tags": []
          },
          "execution_count": 14
        }
      ]
    },
    {
      "cell_type": "code",
      "metadata": {
        "colab": {
          "base_uri": "https://localhost:8080/"
        },
        "id": "-XqzDmsf-v9Y",
        "outputId": "1016eaa9-0ea4-4ad6-bf63-0787a3402305"
      },
      "source": [
        "# Transformando a un arreglo \n",
        "np.array(Bk).shape"
      ],
      "execution_count": 15,
      "outputs": [
        {
          "output_type": "execute_result",
          "data": {
            "text/plain": [
              "(200, 200, 4)"
            ]
          },
          "metadata": {
            "tags": []
          },
          "execution_count": 15
        }
      ]
    },
    {
      "cell_type": "code",
      "metadata": {
        "colab": {
          "base_uri": "https://localhost:8080/"
        },
        "id": "vRcLgzDM-v9d",
        "outputId": "040b73e5-b0ab-4a0f-bd58-834a72a7610a"
      },
      "source": [
        "# Verificando los canales \n",
        "Bk.getbands()"
      ],
      "execution_count": 17,
      "outputs": [
        {
          "output_type": "execute_result",
          "data": {
            "text/plain": [
              "('R', 'G', 'B', 'A')"
            ]
          },
          "metadata": {
            "tags": []
          },
          "execution_count": 17
        }
      ]
    },
    {
      "cell_type": "code",
      "metadata": {
        "id": "dplj8pB2-v9h"
      },
      "source": [
        "# Removiendo el canal alpha \n",
        "ABk=np.array(Bk)[:,:,0:3]\n",
        "ABl=np.array(Bl)[:,:,0:3]\n",
        "ARd=np.array(Rd)[:,:,0:3]"
      ],
      "execution_count": 18,
      "outputs": []
    },
    {
      "cell_type": "code",
      "metadata": {
        "colab": {
          "base_uri": "https://localhost:8080/"
        },
        "id": "T4emeHtb-v9l",
        "outputId": "80d656ce-bc3d-4c13-fb79-25466dcc3664"
      },
      "source": [
        "# Verificando la forma\n",
        "ABk.shape"
      ],
      "execution_count": 19,
      "outputs": [
        {
          "output_type": "execute_result",
          "data": {
            "text/plain": [
              "(200, 200, 3)"
            ]
          },
          "metadata": {
            "tags": []
          },
          "execution_count": 19
        }
      ]
    },
    {
      "cell_type": "code",
      "metadata": {
        "colab": {
          "base_uri": "https://localhost:8080/",
          "height": 773
        },
        "id": "82FZKGGd-v9r",
        "outputId": "f2fca825-ee07-4a5a-9bb1-1145198780be"
      },
      "source": [
        "# Graficando las imágenes \n",
        "plt.imshow(ABk)\n",
        "plt.show()\n",
        "plt.imshow(ABl)\n",
        "plt.show()\n",
        "plt.imshow(ARd)\n",
        "plt.show()"
      ],
      "execution_count": 20,
      "outputs": [
        {
          "output_type": "display_data",
          "data": {
            "image/png": "[encoded data removed]",
            "text/plain": [
              "<Figure size 432x288 with 1 Axes>"
            ]
          },
          "metadata": {
            "tags": [],
            "needs_background": "light"
          }
        },
        {
          "output_type": "display_data",
          "data": {
            "image/png": "[encoded data removed]",
            "text/plain": [
              "<Figure size 432x288 with 1 Axes>"
            ]
          },
          "metadata": {
            "tags": [],
            "needs_background": "light"
          }
        },
        {
          "output_type": "display_data",
          "data": {
            "image/png": "[encoded data removed]",
            "text/plain": [
              "<Figure size 432x288 with 1 Axes>"
            ]
          },
          "metadata": {
            "tags": [],
            "needs_background": "light"
          }
        }
      ]
    },
    {
      "cell_type": "markdown",
      "metadata": {
        "id": "uvk1IhdZ-v9v"
      },
      "source": [
        "# Detectando el color por valor del pixel \n",
        "Extrayendo las características "
      ]
    },
    {
      "cell_type": "code",
      "metadata": {
        "colab": {
          "base_uri": "https://localhost:8080/"
        },
        "id": "-sSEEiRP-v9w",
        "outputId": "c35e85e3-b67c-43a2-a057-afc7d2aebe42"
      },
      "source": [
        "print(ABk[100,100])\n",
        "print(ABl[100,100])\n",
        "print(ARd[100,100])"
      ],
      "execution_count": 21,
      "outputs": [
        {
          "output_type": "stream",
          "text": [
            "[0 0 0]\n",
            "[  0   0 255]\n",
            "[255   0   0]\n"
          ],
          "name": "stdout"
        }
      ]
    },
    {
      "cell_type": "markdown",
      "metadata": {
        "id": "dTqwg37w-v92"
      },
      "source": [
        " **nota**: si los valores son tan distintivos no es necesario aplicar una red neuronal "
      ]
    },
    {
      "cell_type": "markdown",
      "metadata": {
        "id": "sjmSs8UT-v93"
      },
      "source": [
        "# Clasificador de color"
      ]
    },
    {
      "cell_type": "code",
      "metadata": {
        "id": "MbCb2xMe-v95"
      },
      "source": [
        "#importar sklearn\n",
        "from sklearn.neural_network import MLPClassifier"
      ],
      "execution_count": 22,
      "outputs": []
    },
    {
      "cell_type": "markdown",
      "metadata": {
        "id": "2BJpKg0T-v98"
      },
      "source": [
        "## Preparando los datos "
      ]
    },
    {
      "cell_type": "markdown",
      "metadata": {
        "id": "bWF3gHc9-v99"
      },
      "source": [
        "Para este primer caso usaremos aprendizaje supervisado \n",
        "Los datos de entrenamiento consisten en pares ordenados donde hay una lista de entradas y una lista de salidas \n",
        "\n",
        "### entradas\n",
        "x=[[0,0,0],[1,0,0],[0,0,1]]\n",
        "\n",
        "### Salidas \n",
        "\n",
        "(Necesario codificarlas) \n",
        "- negro=1,0,0\n",
        "- rojo=0,1,0\n",
        "- azul=0,0,1\n",
        "\n",
        "y=[[1,0,0],[0,1,0],[0,0,1]]\n",
        "\n"
      ]
    },
    {
      "cell_type": "code",
      "metadata": {
        "id": "4ls3lm6N-v9-"
      },
      "source": [
        "def Lector_de_imagenes(Train_dir,jsonfile):\n",
        "    Train_data=[]\n",
        "    train_names=[]\n",
        "    Tags=[]\n",
        "    with open(jsonfile) as data_file:    \n",
        "         etiquetas = json.load(data_file)\n",
        "    for img in os.listdir(Train_dir):\n",
        "        try : \n",
        "            imgtag=etiquetas[img]\n",
        "            Tags.append(imgtag)\n",
        "        except :\n",
        "            print(\"Tag error: \"+img)\n",
        "        try : \n",
        "            imgpath=os.path.join(Train_dir,img)\n",
        "            img = Image.open(imgpath)\n",
        "            Train_data.append(np.array(img)[:,:,0:3][100,100]) \n",
        "            path, name=os.path.split(imgpath)\n",
        "            train_names.append(name)\n",
        "        except :\n",
        "            print(\"file error: \"+img)\n",
        "        #np.save(file+\".npy\",Train_data)\n",
        "    return np.array(Train_data),Tags, train_names"
      ],
      "execution_count": 64,
      "outputs": []
    },
    {
      "cell_type": "code",
      "metadata": {
        "colab": {
          "base_uri": "https://localhost:8080/"
        },
        "id": "8TA0QGGG-v-B",
        "outputId": "a085b736-faf2-4605-caa5-498880365458"
      },
      "source": [
        "X_train,y_train, tnames=Lector_de_imagenes(\"Proyect1ARA_ML/images/colores/Train\",\"Proyect1ARA_ML/Train_color.json\")"
      ],
      "execution_count": 68,
      "outputs": [
        {
          "output_type": "stream",
          "text": [
            "Tag error: desktop.ini\n",
            "file error: desktop.ini\n"
          ],
          "name": "stdout"
        }
      ]
    },
    {
      "cell_type": "code",
      "metadata": {
        "colab": {
          "base_uri": "https://localhost:8080/"
        },
        "id": "lK6mCmAa-v-F",
        "outputId": "ba228163-01c9-42c7-ac7c-b1bc7f053024"
      },
      "source": [
        "X_test,y_test, testnames=Lector_de_imagenes(\"Proyect1ARA_ML/images/colores/Test\",\"Proyect1ARA_ML/Test_color.json\")"
      ],
      "execution_count": 93,
      "outputs": [
        {
          "output_type": "stream",
          "text": [
            "Tag error: desktop.ini\n",
            "file error: desktop.ini\n"
          ],
          "name": "stdout"
        }
      ]
    },
    {
      "cell_type": "code",
      "metadata": {
        "id": "oZx6k_eognOQ",
        "outputId": "6eb9c11a-a6bd-41ee-f6fe-3d99e3066597",
        "colab": {
          "base_uri": "https://localhost:8080/"
        }
      },
      "source": [
        "X_train"
      ],
      "execution_count": 124,
      "outputs": [
        {
          "output_type": "execute_result",
          "data": {
            "text/plain": [
              "array([[  0,  51, 255],\n",
              "       [255,   0,   0],\n",
              "       [ 15,  18,  14],\n",
              "       [255,   0,  51],\n",
              "       [255,  43,  43],\n",
              "       [ 30,  30,  30],\n",
              "       [153,   0,   0],\n",
              "       [  0,   0,   0],\n",
              "       [136,   0,   0],\n",
              "       [  0,   0, 102],\n",
              "       [  0,  51, 153],\n",
              "       [ 44,  44,  44],\n",
              "       [  0,  51, 204],\n",
              "       [221,   0,   0],\n",
              "       [  0,   0, 153],\n",
              "       [  0, 153, 255],\n",
              "       [ 51,  51,  51],\n",
              "       [ 17,  17,  17]], dtype=uint8)"
            ]
          },
          "metadata": {
            "tags": []
          },
          "execution_count": 124
        }
      ]
    },
    {
      "cell_type": "markdown",
      "metadata": {
        "id": "AZiPJGpm-v-J"
      },
      "source": [
        "## Ajustar Parámetros del modelo"
      ]
    },
    {
      "cell_type": "code",
      "metadata": {
        "id": "4QI3MgnW-v-K"
      },
      "source": [
        "clfcolor = MLPClassifier(solver='lbfgs', alpha=1e-5,\n",
        "                  hidden_layer_sizes=(10, 2), random_state=1)"
      ],
      "execution_count": 125,
      "outputs": []
    },
    {
      "cell_type": "markdown",
      "metadata": {
        "id": "MmlSKuqu-v-O"
      },
      "source": [
        "## Ajuste del modelo"
      ]
    },
    {
      "cell_type": "code",
      "metadata": {
        "colab": {
          "base_uri": "https://localhost:8080/"
        },
        "id": "eQZT_rEQ-v-P",
        "outputId": "a7893f33-d44f-4913-b1c7-d05e51a237ab"
      },
      "source": [
        "clfcolor.fit(X_train,y_train)"
      ],
      "execution_count": 126,
      "outputs": [
        {
          "output_type": "execute_result",
          "data": {
            "text/plain": [
              "MLPClassifier(activation='relu', alpha=1e-05, batch_size='auto', beta_1=0.9,\n",
              "              beta_2=0.999, early_stopping=False, epsilon=1e-08,\n",
              "              hidden_layer_sizes=(10, 2), learning_rate='constant',\n",
              "              learning_rate_init=0.001, max_fun=15000, max_iter=200,\n",
              "              momentum=0.9, n_iter_no_change=10, nesterovs_momentum=True,\n",
              "              power_t=0.5, random_state=1, shuffle=True, solver='lbfgs',\n",
              "              tol=0.0001, validation_fraction=0.1, verbose=False,\n",
              "              warm_start=False)"
            ]
          },
          "metadata": {
            "tags": []
          },
          "execution_count": 126
        }
      ]
    },
    {
      "cell_type": "code",
      "metadata": {
        "colab": {
          "base_uri": "https://localhost:8080/"
        },
        "id": "8ukCrtYx-v-T",
        "outputId": "884179a2-81b5-4ccd-8ada-6bb23e5e7508"
      },
      "source": [
        "pred = clfcolor.predict(X_test)\n",
        "pred"
      ],
      "execution_count": 127,
      "outputs": [
        {
          "output_type": "execute_result",
          "data": {
            "text/plain": [
              "array([[1, 1, 1],\n",
              "       [1, 1, 1],\n",
              "       [1, 1, 1],\n",
              "       [1, 0, 0],\n",
              "       [1, 1, 1],\n",
              "       [1, 1, 1],\n",
              "       [1, 0, 0],\n",
              "       [0, 0, 1],\n",
              "       [1, 1, 1]])"
            ]
          },
          "metadata": {
            "tags": []
          },
          "execution_count": 127
        }
      ]
    },
    {
      "cell_type": "markdown",
      "metadata": {
        "id": "ewH9MtTm-v-Y"
      },
      "source": [
        "## Evaluar al modelo "
      ]
    },
    {
      "cell_type": "code",
      "metadata": {
        "id": "oVCY5tnB-v-Z"
      },
      "source": [
        "from sklearn.metrics import accuracy_score,classification_report,confusion_matrix"
      ],
      "execution_count": 128,
      "outputs": []
    },
    {
      "cell_type": "code",
      "metadata": {
        "id": "tPF3fory-v-c"
      },
      "source": [
        "def ClassDetector(onehot):\n",
        "    output=[]\n",
        "    for caso in onehot:\n",
        "        output.append(np.argmax(caso))\n",
        "    return output"
      ],
      "execution_count": 129,
      "outputs": []
    },
    {
      "cell_type": "code",
      "metadata": {
        "id": "OTPRntBJ-v-f"
      },
      "source": [
        "predclass=ClassDetector(pred)\n",
        "yclass=ClassDetector(y_test)"
      ],
      "execution_count": 131,
      "outputs": []
    },
    {
      "cell_type": "code",
      "metadata": {
        "colab": {
          "base_uri": "https://localhost:8080/"
        },
        "id": "S7fwhLzN-v-i",
        "outputId": "f39fe3f3-c499-4420-87f3-0e17e5b47eb8"
      },
      "source": [
        "print(accuracy_score(predclass,yclass)) "
      ],
      "execution_count": 132,
      "outputs": [
        {
          "output_type": "stream",
          "text": [
            "0.3333333333333333\n"
          ],
          "name": "stdout"
        }
      ]
    },
    {
      "cell_type": "code",
      "metadata": {
        "colab": {
          "base_uri": "https://localhost:8080/"
        },
        "id": "D6dJOiGs-v-m",
        "outputId": "3996de7d-6b14-4b80-a693-236479f8cfc6"
      },
      "source": [
        "print(confusion_matrix(predclass,yclass))\n"
      ],
      "execution_count": 133,
      "outputs": [
        {
          "output_type": "stream",
          "text": [
            "[[3 2 3]\n",
            " [0 0 0]\n",
            " [0 1 0]]\n"
          ],
          "name": "stdout"
        }
      ]
    },
    {
      "cell_type": "markdown",
      "metadata": {
        "id": "nj4nkgVf-v-q"
      },
      "source": [
        "## Clasificador de forma \n",
        "### Lectura de archivo de imágenes "
      ]
    },
    {
      "cell_type": "code",
      "metadata": {
        "id": "MGFDTg0C-v-r"
      },
      "source": [
        "CR=os.path.join(\"Proyect1ARA_ML/images/circulo.png\")\n",
        "CD=os.path.join(\"Proyect1ARA_ML/images/cuadro.png\")\n",
        "TR=os.path.join(\"Proyect1ARA_ML/images/triangulo.png\")"
      ],
      "execution_count": 134,
      "outputs": []
    },
    {
      "cell_type": "code",
      "metadata": {
        "id": "BSWjKJ79-v-u"
      },
      "source": [
        "Cir = Image.open(CR).convert('L')\n",
        "Cud = Image.open(CD).convert('L')\n",
        "Tri = Image.open(TR).convert('L')"
      ],
      "execution_count": 136,
      "outputs": []
    },
    {
      "cell_type": "code",
      "metadata": {
        "id": "i87yntS_-v-y"
      },
      "source": [
        "# Convertir a arreglo\n",
        "ACR=np.array(Cir)\n",
        "ACD=np.array(Cud)\n",
        "ATR=np.array(Tri)"
      ],
      "execution_count": 137,
      "outputs": []
    },
    {
      "cell_type": "code",
      "metadata": {
        "colab": {
          "base_uri": "https://localhost:8080/"
        },
        "id": "ysDZEJ_W-v-1",
        "outputId": "f991ecf1-e2aa-44d3-f587-0bf10ddea645"
      },
      "source": [
        "ACD.shape"
      ],
      "execution_count": 138,
      "outputs": [
        {
          "output_type": "execute_result",
          "data": {
            "text/plain": [
              "(200, 200)"
            ]
          },
          "metadata": {
            "tags": []
          },
          "execution_count": 138
        }
      ]
    },
    {
      "cell_type": "code",
      "metadata": {
        "colab": {
          "base_uri": "https://localhost:8080/",
          "height": 773
        },
        "id": "y2osUX1r-v-5",
        "outputId": "f040a963-eb0d-4c0f-98f3-21b0049145cf"
      },
      "source": [
        "# Graficando las imágenes \n",
        "plt.imshow(ACR,cmap='gray')\n",
        "plt.show()\n",
        "plt.imshow(ACD,cmap='gray')\n",
        "plt.show()\n",
        "plt.imshow(ATR,cmap='gray')\n",
        "plt.show()"
      ],
      "execution_count": 139,
      "outputs": [
        {
          "output_type": "display_data",
          "data": {
            "image/png": "[encoded data removed]",
            "text/plain": [
              "<Figure size 432x288 with 1 Axes>"
            ]
          },
          "metadata": {
            "tags": [],
            "needs_background": "light"
          }
        },
        {
          "output_type": "display_data",
          "data": {
            "image/png": "[encoded data removed]",
            "text/plain": [
              "<Figure size 432x288 with 1 Axes>"
            ]
          },
          "metadata": {
            "tags": [],
            "needs_background": "light"
          }
        },
        {
          "output_type": "display_data",
          "data": {
            "image/png": "[encoded data removed]",
            "text/plain": [
              "<Figure size 432x288 with 1 Axes>"
            ]
          },
          "metadata": {
            "tags": [],
            "needs_background": "light"
          }
        }
      ]
    },
    {
      "cell_type": "markdown",
      "metadata": {
        "id": "ixV9caZV-v-8"
      },
      "source": [
        "## Determinando las características adecuadas \n",
        "¿Comó podemos  describir numéricamente la forma de las figuras?"
      ]
    },
    {
      "cell_type": "markdown",
      "metadata": {
        "id": "PmxqUh-W-v-9"
      },
      "source": [
        "### Usando el área de la figura como descriptor  "
      ]
    },
    {
      "cell_type": "code",
      "metadata": {
        "colab": {
          "base_uri": "https://localhost:8080/",
          "height": 865
        },
        "id": "3JGyxHLv-v--",
        "outputId": "bcb843ff-1e22-44fe-c388-24f9d922ef9a"
      },
      "source": [
        "# Posibles valores de intensidad en una imagen\n",
        "x=np.arange(0,256)\n",
        "# Cálculo del área del cuadrado \n",
        "hist,centers=ski.exposure.histogram(ACD)\n",
        "plt.bar(x, hist)\n",
        "plt.show()\n",
        "print(\"Área del cuadro en pixeles\")\n",
        "# Cálculo del área del triángulo \n",
        "print(hist[0])\n",
        "hist,centers=ski.exposure.histogram(ATR)\n",
        "plt.bar(x, hist)\n",
        "plt.show()\n",
        "print(\"Área del Triángulo en pixeles\")\n",
        "# Cálculo del área del círculo \n",
        "print(hist[0])\n",
        "hist,centers=ski.exposure.histogram(ACR)\n",
        "plt.bar(x, hist)\n",
        "plt.show()\n",
        "print(\"Área del círculo en pixeles\")\n",
        "print(hist[0])"
      ],
      "execution_count": 140,
      "outputs": [
        {
          "output_type": "display_data",
          "data": {
            "image/png": "[encoded data removed]",
            "text/plain": [
              "<Figure size 432x288 with 1 Axes>"
            ]
          },
          "metadata": {
            "tags": [],
            "needs_background": "light"
          }
        },
        {
          "output_type": "stream",
          "text": [
            "Área del cuadro en pixeles\n",
            "10000\n"
          ],
          "name": "stdout"
        },
        {
          "output_type": "display_data",
          "data": {
            "image/png": "[encoded data removed]",
            "text/plain": [
              "<Figure size 432x288 with 1 Axes>"
            ]
          },
          "metadata": {
            "tags": [],
            "needs_background": "light"
          }
        },
        {
          "output_type": "stream",
          "text": [
            "Área del Triángulo en pixeles\n",
            "4950\n"
          ],
          "name": "stdout"
        },
        {
          "output_type": "display_data",
          "data": {
            "image/png": "[encoded data removed]",
            "text/plain": [
              "<Figure size 432x288 with 1 Axes>"
            ]
          },
          "metadata": {
            "tags": [],
            "needs_background": "light"
          }
        },
        {
          "output_type": "stream",
          "text": [
            "Área del círculo en pixeles\n",
            "7772\n"
          ],
          "name": "stdout"
        }
      ]
    },
    {
      "cell_type": "markdown",
      "metadata": {
        "id": "M5yQi4Ze-v_D"
      },
      "source": [
        "Ventajas  de usar el área como descriptor \n",
        "- Es invariante a la posición de la figura \n",
        "\n",
        "Limitantes de usar el área como descriptor \n",
        "- Es susceptible a los cambios en el tamaño  \n",
        "- Es posible que el área de dos tipos de figuras diferentes se intersecten "
      ]
    },
    {
      "cell_type": "markdown",
      "metadata": {
        "id": "WU3A75pF-v_E"
      },
      "source": [
        "## Usando el número de  esquinas como descriptor "
      ]
    },
    {
      "cell_type": "code",
      "metadata": {
        "id": "wt08-HRT-v_E"
      },
      "source": [
        "from skimage.feature import corner_harris, corner_subpix, corner_peaks"
      ],
      "execution_count": 141,
      "outputs": []
    },
    {
      "cell_type": "code",
      "metadata": {
        "colab": {
          "base_uri": "https://localhost:8080/"
        },
        "id": "dkU9We4I-v_H",
        "outputId": "926b805c-92f9-4b72-9563-2f27573f2b91"
      },
      "source": [
        "NCD=len(corner_peaks(corner_harris(ACD), min_distance=5))\n",
        "NCR=len(corner_peaks(corner_harris(ACR), min_distance=5))\n",
        "NTR=len(corner_peaks(corner_harris(ATR), min_distance=5))\n",
        "print(\"Número de esquinas del cuadrado {}\".format(NCD))\n",
        "print(\"Número de esquinas del círculo {}\".format(NCR))\n",
        "print(\"Número de esquinas del triángulo  {}\".format(NTR))"
      ],
      "execution_count": 142,
      "outputs": [
        {
          "output_type": "stream",
          "text": [
            "Número de esquinas del cuadrado 4\n",
            "Número de esquinas del círculo 0\n",
            "Número de esquinas del triángulo  3\n"
          ],
          "name": "stdout"
        }
      ]
    },
    {
      "cell_type": "markdown",
      "metadata": {
        "id": "jlQJdlFG-v_L"
      },
      "source": [
        "Ventajas  de usar el área como descriptor \n",
        "- Es invariante a la posición de la figura \n",
        "- Es invariante a cambios en el tamaño\n",
        "\n",
        "Limitantes de usar el área como descriptor \n",
        "- No permite diferenciar entre figuras con el mismo número de esquinas  cómo cuadrados y rectángulos\n",
        "- El metodo de extraccion de caracteristicas falla en casos en donde las figuras tienen bordes irregulares como las figuras trazadas  a mano \n",
        "\n",
        "<img src='https://github.com/AlbDav27/Proyect1ARA_ML/blob/main/cuadroMT.png?raw=1' width=\"40%\" height=\"40%\" />"
      ]
    },
    {
      "cell_type": "code",
      "metadata": {
        "colab": {
          "base_uri": "https://localhost:8080/"
        },
        "id": "IQzj2JIJ-v_L",
        "outputId": "65601674-7f17-433b-9162-c7d808eb2789"
      },
      "source": [
        "#Contra Ejemplo\n",
        "CDD=os.path.join(\"Proyect1ARA_ML/cuadroMT.png\")\n",
        "CadD = Image.open(CDD).convert('L')\n",
        "ACDD=np.array(CadD)\n",
        "len(corner_peaks(corner_harris(ACDD), min_distance=5))"
      ],
      "execution_count": 146,
      "outputs": [
        {
          "output_type": "execute_result",
          "data": {
            "text/plain": [
              "12"
            ]
          },
          "metadata": {
            "tags": []
          },
          "execution_count": 146
        }
      ]
    },
    {
      "cell_type": "markdown",
      "metadata": {
        "id": "UZLMDU4W-v_O"
      },
      "source": [
        "### Usando un descriptor invariante \n",
        "\n",
        "El problema de identificación de formas se ha estudiado durante mucho tiempo, como resultado se han propuesto metodologías de extracción de características invariantes a rotación, traslación y escalamiento. Estas características son los momentos invariables de Hu.\n",
        "\n",
        "Para mayor detalle favor de consultar el capítulo de extracción de características del libro Gonzalez & Woods, Digital Image Processing\n",
        "\n",
        "http://www.sc.ehu.es/ccwgrrom/transparencias/pdf-vision-1-transparencias/capitulo-8.pdf"
      ]
    },
    {
      "cell_type": "markdown",
      "metadata": {
        "id": "L4jPzEBP-v_Q"
      },
      "source": [
        ""
      ]
    },
    {
      "cell_type": "code",
      "metadata": {
        "colab": {
          "base_uri": "https://localhost:8080/",
          "height": 286
        },
        "id": "O11ZezK5-v_Q",
        "outputId": "2cb57d7e-becf-4313-fd89-f2391a7100d7"
      },
      "source": [
        "#  Proceso para aplicar los momentos de hu\n",
        "# Invertir los colores de la imagen \n",
        "ICD=ski.util.invert(ACD)\n",
        "print(ICD[100,100])\n",
        "plt.imshow(ICD,cmap='gray')\n",
        "plt.show()"
      ],
      "execution_count": 148,
      "outputs": [
        {
          "output_type": "stream",
          "text": [
            "255\n"
          ],
          "name": "stdout"
        },
        {
          "output_type": "display_data",
          "data": {
            "image/png": "[encoded data removed]",
            "text/plain": [
              "<Figure size 432x288 with 1 Axes>"
            ]
          },
          "metadata": {
            "tags": [],
            "needs_background": "light"
          }
        }
      ]
    },
    {
      "cell_type": "code",
      "metadata": {
        "id": "TW3ZN5wn-v_T"
      },
      "source": [
        "def umbral_image(img):\n",
        "    x,y=img.shape\n",
        "    z=np.zeros((x,y))\n",
        "    for i in range(x):\n",
        "        for j in range(y):\n",
        "            if img[i,j]>25:\n",
        "                z[i,j]=250\n",
        "    return z"
      ],
      "execution_count": 149,
      "outputs": []
    },
    {
      "cell_type": "code",
      "metadata": {
        "colab": {
          "base_uri": "https://localhost:8080/",
          "height": 269
        },
        "id": "fDtcGJ-h-v_W",
        "outputId": "311acf31-54a7-4f3d-cf2e-66dd2df4c7a2"
      },
      "source": [
        "# Binarizar imagen \n",
        "CD=umbral_image(ICD)\n",
        "label_image=ski.measure.label(ICD)\n",
        "plt.imshow(ski.color.label2rgb(label_image))\n",
        "plt.show()\n"
      ],
      "execution_count": 150,
      "outputs": [
        {
          "output_type": "display_data",
          "data": {
            "image/png": "[encoded data removed]",
            "text/plain": [
              "<Figure size 432x288 with 1 Axes>"
            ]
          },
          "metadata": {
            "tags": [],
            "needs_background": "light"
          }
        }
      ]
    },
    {
      "cell_type": "code",
      "metadata": {
        "colab": {
          "base_uri": "https://localhost:8080/"
        },
        "id": "O4uBGwBm-v_e",
        "outputId": "1800d2eb-0e06-4fcc-eee8-93c789e42963"
      },
      "source": [
        "# Calcular las propiedades de la figura\n",
        "regions = ski.measure.regionprops(label_image)\n",
        "for prop in regions[0]:\n",
        "    print(prop, regions[0][prop])"
      ],
      "execution_count": 151,
      "outputs": [
        {
          "output_type": "stream",
          "text": [
            "area 10000\n",
            "bbox (50, 50, 150, 150)\n",
            "bbox_area 10000\n",
            "centroid (99.5, 99.5)\n",
            "convex_area 10000\n",
            "convex_image [[ True  True  True ...  True  True  True]\n",
            " [ True  True  True ...  True  True  True]\n",
            " [ True  True  True ...  True  True  True]\n",
            " ...\n",
            " [ True  True  True ...  True  True  True]\n",
            " [ True  True  True ...  True  True  True]\n",
            " [ True  True  True ...  True  True  True]]\n",
            "coords [[ 50  50]\n",
            " [ 50  51]\n",
            " [ 50  52]\n",
            " ...\n",
            " [149 147]\n",
            " [149 148]\n",
            " [149 149]]\n",
            "eccentricity 0.0\n",
            "equivalent_diameter 112.83791670955127\n",
            "euler_number 1\n",
            "extent 1.0\n",
            "filled_area 10000\n",
            "filled_image [[ True  True  True ...  True  True  True]\n",
            " [ True  True  True ...  True  True  True]\n",
            " [ True  True  True ...  True  True  True]\n",
            " ...\n",
            " [ True  True  True ...  True  True  True]\n",
            " [ True  True  True ...  True  True  True]\n",
            " [ True  True  True ...  True  True  True]]\n",
            "image [[ True  True  True ...  True  True  True]\n",
            " [ True  True  True ...  True  True  True]\n",
            " [ True  True  True ...  True  True  True]\n",
            " ...\n",
            " [ True  True  True ...  True  True  True]\n",
            " [ True  True  True ...  True  True  True]\n",
            " [ True  True  True ...  True  True  True]]\n",
            "inertia_tensor [[833.25  -0.  ]\n",
            " [ -0.   833.25]]\n",
            "inertia_tensor_eigvals [833.25, 833.25]\n",
            "label 1\n",
            "local_centroid (49.5, 49.5)\n",
            "major_axis_length 115.46428019088847\n",
            "minor_axis_length 115.46428019088847\n",
            "moments [[1.00000000e+04 4.95000000e+05 3.28350000e+07 2.45025000e+09]\n",
            " [4.95000000e+05 2.45025000e+07 1.62533250e+09 1.21287375e+11]\n",
            " [3.28350000e+07 1.62533250e+09 1.07813722e+11 8.04539588e+12]\n",
            " [2.45025000e+09 1.21287375e+11 8.04539588e+12 6.00372506e+14]]\n",
            "moments_central [[1.00000000e+04 0.00000000e+00 8.33250000e+06 0.00000000e+00]\n",
            " [0.00000000e+00 0.00000000e+00 0.00000000e+00 0.00000000e+00]\n",
            " [8.33250000e+06 0.00000000e+00 6.94305562e+09 0.00000000e+00]\n",
            " [0.00000000e+00 0.00000000e+00 0.00000000e+00 0.00000000e+00]]\n",
            "moments_hu [0.16665 0.      0.      0.      0.      0.      0.     ]\n",
            "moments_normalized [[       nan        nan 0.083325   0.        ]\n",
            " [       nan 0.         0.         0.        ]\n",
            " [0.083325   0.         0.00694306 0.        ]\n",
            " [0.         0.         0.         0.        ]]\n",
            "orientation 0.7853981633974483\n",
            "perimeter 396.0\n",
            "slice (slice(50, 150, None), slice(50, 150, None))\n",
            "solidity 1.0\n"
          ],
          "name": "stdout"
        }
      ]
    },
    {
      "cell_type": "code",
      "metadata": {
        "id": "zLyws-wz-v_h"
      },
      "source": [
        "# Obtener la propiedad de interés\n",
        "momento =regions[0].moments_hu"
      ],
      "execution_count": 152,
      "outputs": []
    },
    {
      "cell_type": "code",
      "metadata": {
        "id": "gupXzJx_-v_j"
      },
      "source": [
        "# Creando una función para extraer los momentos de hu \n",
        "def hu_Characteristics(img):\n",
        "    Iing=ski.util.invert(img)\n",
        "    Uing=umbral_image(Iing)\n",
        "    label_image=ski.measure.label(Uing)\n",
        "    regions = ski.measure.regionprops(label_image)\n",
        "    momento =regions[0].moments_hu\n",
        "    return momento"
      ],
      "execution_count": 153,
      "outputs": []
    },
    {
      "cell_type": "code",
      "metadata": {
        "colab": {
          "base_uri": "https://localhost:8080/"
        },
        "id": "VBt4hmua-v_m",
        "outputId": "6bf42eb1-3daa-4afc-a461-82730e6a13ff"
      },
      "source": [
        "print(\"Momentos del cuadrado {}\".format(hu_Characteristics(ACD)))\n",
        "print(\"Momentos del círculo {}\".format(hu_Characteristics(ACR)))\n",
        "print(\"Momentos del triángulo   {}\".format(hu_Characteristics(ATR)))"
      ],
      "execution_count": 154,
      "outputs": [
        {
          "output_type": "stream",
          "text": [
            "Momentos del cuadrado [0.16665 0.      0.      0.      0.      0.      0.     ]\n",
            "Momentos del círculo [0.15915634 0.         0.         0.         0.         0.\n",
            " 0.        ]\n",
            "Momentos del triángulo   [ 2.22178218e-01  1.23407901e-02  5.48493137e-03  2.19397255e-04\n",
            " -2.40675777e-07 -2.43726455e-05  0.00000000e+00]\n"
          ],
          "name": "stdout"
        }
      ]
    },
    {
      "cell_type": "markdown",
      "metadata": {
        "id": "vznHVSTL-v_s"
      },
      "source": [
        "## Preparando los datos\n",
        "\n",
        "Para este primer caso usaremos aprendizaje supervisado,los datos de entrenamiento consisten en pares ordenados donde hay una lista de entradas y una lista de salidas \n",
        "\n",
        "### entradas\n",
        "x=[[0,0,0],[1,0,0],[0,0,1]]\n",
        "\n",
        "### Salidas \n",
        "\n",
        "(Necesario codificarlas) \n",
        "- Cuadro=1,0,0\n",
        "- Triángulo=0,1,0\n",
        "- Círculo=0,0,1\n",
        "\n",
        "y=[[1,0,0],[0,1,0],[0,0,1]]"
      ]
    },
    {
      "cell_type": "code",
      "metadata": {
        "id": "GsVr1ao5-v_t"
      },
      "source": [
        "def Lector_forma(Train_dir,jsonfile):\n",
        "    Train_data=[]\n",
        "    Tags=[]\n",
        "    with open(jsonfile) as data_file:    \n",
        "         etiquetas = json.load(data_file)\n",
        "    for img in os.listdir(Train_dir):\n",
        "        try : \n",
        "            imgtag=etiquetas[img]\n",
        "            Tags.append(imgtag)\n",
        "        except :\n",
        "            print(\"Tag error: \"+img)\n",
        "        try : \n",
        "            imgpath=os.path.join(Train_dir,img)\n",
        "            img = Image.open(imgpath).convert('L')\n",
        "            Train_data.append(hu_Characteristics(np.array(img))) \n",
        "        except :\n",
        "            print(\"file error: \"+img)\n",
        "        #np.save(file+\".npy\",Train_data)\n",
        "    return np.array(Train_data),Tags "
      ],
      "execution_count": 155,
      "outputs": []
    },
    {
      "cell_type": "code",
      "metadata": {
        "colab": {
          "base_uri": "https://localhost:8080/"
        },
        "id": "8ok_VatM-v_v",
        "outputId": "f808e7f8-25a8-4303-c1b9-da23d0e5ef3b"
      },
      "source": [
        "X_train,y_train=Lector_forma(\"Proyect1ARA_ML/images/Forma/Train\",\"Proyect1ARA_ML/Train_forma.json\")"
      ],
      "execution_count": 156,
      "outputs": [
        {
          "output_type": "stream",
          "text": [
            "Tag error: desktop.ini\n",
            "file error: desktop.ini\n"
          ],
          "name": "stdout"
        }
      ]
    },
    {
      "cell_type": "code",
      "metadata": {
        "colab": {
          "base_uri": "https://localhost:8080/"
        },
        "id": "AiHCzT5p-v_1",
        "outputId": "18ab4e51-91e3-443e-9ef8-4ab6b60ca27a"
      },
      "source": [
        "X_test,y_test=Lector_forma(\"Proyect1ARA_ML/images/Forma/Test\",\"Proyect1ARA_ML/Test_forma.json\")"
      ],
      "execution_count": 157,
      "outputs": [
        {
          "output_type": "stream",
          "text": [
            "Tag error: desktop.ini\n",
            "file error: desktop.ini\n"
          ],
          "name": "stdout"
        }
      ]
    },
    {
      "cell_type": "code",
      "metadata": {
        "colab": {
          "base_uri": "https://localhost:8080/"
        },
        "id": "9ijhj-V--v_6",
        "outputId": "27198be1-8677-4f87-8f27-5c31b9ac0574"
      },
      "source": [
        "X_train"
      ],
      "execution_count": 158,
      "outputs": [
        {
          "output_type": "execute_result",
          "data": {
            "text/plain": [
              "array([[ 2.02886444e-01,  4.33109840e-03,  4.77973530e-03,\n",
              "         1.47320455e-04,  1.19870140e-07,  9.04763748e-06,\n",
              "        -3.02258185e-08],\n",
              "       [ 1.59901163e-01,  2.20295717e-04,  4.92750219e-07,\n",
              "         1.44698529e-09,  1.99642227e-17,  8.86164086e-12,\n",
              "        -3.30800562e-17],\n",
              "       [ 2.40502176e-01,  2.13045937e-02,  5.66413415e-03,\n",
              "         3.02272974e-04, -3.81185816e-07, -4.27862096e-05,\n",
              "        -1.05505906e-07],\n",
              "       [ 1.59365801e-01,  4.76775209e-05,  1.36881255e-06,\n",
              "         7.57078859e-10, -7.09176749e-18, -2.02090145e-12,\n",
              "        -2.33169616e-17],\n",
              "       [ 2.59405326e-01,  3.09133916e-02,  6.13880006e-03,\n",
              "         3.98169636e-04, -5.95128918e-07, -6.77211927e-05,\n",
              "         1.82581552e-07],\n",
              "       [ 2.35452087e-01,  1.86965763e-02,  5.78921379e-03,\n",
              "         4.93699889e-04,  4.27088289e-07,  1.67515892e-05,\n",
              "         7.17102522e-07],\n",
              "       [ 1.66992852e-01,  1.15236999e-04,  1.27895756e-06,\n",
              "         1.36204460e-07, -1.17570826e-14, -9.08052061e-10,\n",
              "        -5.56189192e-14],\n",
              "       [ 1.59580345e-01,  1.22590153e-04,  1.43446796e-06,\n",
              "         1.61082894e-09, -5.62658680e-17, -1.48285523e-11,\n",
              "        -5.31962535e-17],\n",
              "       [ 1.66655195e-01,  5.48324558e-06,  9.52609947e-07,\n",
              "         1.02388324e-07,  1.53981320e-14,  2.02827505e-10,\n",
              "        -2.80250751e-14],\n",
              "       [ 1.66774896e-01,  1.67274291e-05,  1.49524974e-06,\n",
              "         1.69839736e-07, -2.04810513e-14,  4.38734220e-10,\n",
              "        -8.31019358e-14],\n",
              "       [ 1.66719514e-01,  1.39508895e-05,  1.05831946e-06,\n",
              "         1.17762518e-07, -2.37733945e-14,  2.04361853e-10,\n",
              "         3.41057319e-14],\n",
              "       [ 1.59223744e-01,  1.36265771e-05,  5.01660805e-07,\n",
              "         1.21206297e-10,  9.93178395e-20,  1.21035462e-13,\n",
              "         9.39900039e-19]])"
            ]
          },
          "metadata": {
            "tags": []
          },
          "execution_count": 158
        }
      ]
    },
    {
      "cell_type": "markdown",
      "metadata": {
        "id": "ukJggvb7-v_9"
      },
      "source": [
        "## Ajustar Parámetros del modelo"
      ]
    },
    {
      "cell_type": "code",
      "metadata": {
        "id": "8dPipOnK-v_-"
      },
      "source": [
        "clforma = MLPClassifier(solver='lbfgs', alpha=1e-2,\n",
        "                  hidden_layer_sizes=(10, 3), random_state=1)"
      ],
      "execution_count": 159,
      "outputs": []
    },
    {
      "cell_type": "markdown",
      "metadata": {
        "id": "AAKKUbVT-wAB"
      },
      "source": [
        "## Ajuste del modelo"
      ]
    },
    {
      "cell_type": "code",
      "metadata": {
        "colab": {
          "base_uri": "https://localhost:8080/"
        },
        "id": "Xns_pya_-wAB",
        "outputId": "fa8bdfe7-7f85-4f7c-c984-bf3bdf534fc7"
      },
      "source": [
        "clforma.fit(X_train,y_train)"
      ],
      "execution_count": 160,
      "outputs": [
        {
          "output_type": "execute_result",
          "data": {
            "text/plain": [
              "MLPClassifier(activation='relu', alpha=0.01, batch_size='auto', beta_1=0.9,\n",
              "              beta_2=0.999, early_stopping=False, epsilon=1e-08,\n",
              "              hidden_layer_sizes=(10, 3), learning_rate='constant',\n",
              "              learning_rate_init=0.001, max_fun=15000, max_iter=200,\n",
              "              momentum=0.9, n_iter_no_change=10, nesterovs_momentum=True,\n",
              "              power_t=0.5, random_state=1, shuffle=True, solver='lbfgs',\n",
              "              tol=0.0001, validation_fraction=0.1, verbose=False,\n",
              "              warm_start=False)"
            ]
          },
          "metadata": {
            "tags": []
          },
          "execution_count": 160
        }
      ]
    },
    {
      "cell_type": "code",
      "metadata": {
        "id": "nnI5P95l-wAE"
      },
      "source": [
        "pred = clforma.predict(X_test)"
      ],
      "execution_count": 161,
      "outputs": []
    },
    {
      "cell_type": "markdown",
      "metadata": {
        "id": "yQEOT4AW-wAG"
      },
      "source": [
        "## Evaluar al modelo "
      ]
    },
    {
      "cell_type": "code",
      "metadata": {
        "colab": {
          "base_uri": "https://localhost:8080/"
        },
        "id": "JmtN3NPT-wAH",
        "outputId": "3b8e39f0-4529-4723-c197-a0e9ea47ed41"
      },
      "source": [
        "predclass=ClassDetector(pred)\n",
        "yclass=ClassDetector(y_test)\n",
        "print(predclass)\n",
        "print(yclass)"
      ],
      "execution_count": 162,
      "outputs": [
        {
          "output_type": "stream",
          "text": [
            "[0, 0, 1, 0, 1, 0]\n",
            "[0, 2, 1, 2, 1, 0]\n"
          ],
          "name": "stdout"
        }
      ]
    },
    {
      "cell_type": "code",
      "metadata": {
        "colab": {
          "base_uri": "https://localhost:8080/"
        },
        "id": "0V7K7mn--wAK",
        "outputId": "2e268408-ee31-4329-be0d-000c895ee78a"
      },
      "source": [
        "print(accuracy_score(predclass,yclass)) "
      ],
      "execution_count": 163,
      "outputs": [
        {
          "output_type": "stream",
          "text": [
            "0.6666666666666666\n"
          ],
          "name": "stdout"
        }
      ]
    },
    {
      "cell_type": "code",
      "metadata": {
        "colab": {
          "base_uri": "https://localhost:8080/"
        },
        "id": "-eQ0xERH-wAN",
        "outputId": "b9a961db-39f2-4088-90b6-acfcaf2a1d05"
      },
      "source": [
        "print(confusion_matrix(predclass,yclass))"
      ],
      "execution_count": 164,
      "outputs": [
        {
          "output_type": "stream",
          "text": [
            "[[2 0 2]\n",
            " [0 2 0]\n",
            " [0 0 0]]\n"
          ],
          "name": "stdout"
        }
      ]
    },
    {
      "cell_type": "code",
      "metadata": {
        "collapsed": true,
        "id": "RcD_nXER-wAQ"
      },
      "source": [
        "# Implementar el modelo"
      ],
      "execution_count": null,
      "outputs": []
    },
    {
      "cell_type": "code",
      "metadata": {
        "collapsed": true,
        "id": "7Zq0yuSrgnOz"
      },
      "source": [
        "from sklearn.externals import joblib"
      ],
      "execution_count": null,
      "outputs": []
    },
    {
      "cell_type": "code",
      "metadata": {
        "id": "fNiNzRTJgnOz",
        "outputId": "ef22413d-cff0-48c8-bef2-5d7bb021d6cf"
      },
      "source": [
        "filename = 'clforma_model.sav'\n",
        "joblib.dump(clforma, filename)"
      ],
      "execution_count": null,
      "outputs": [
        {
          "output_type": "execute_result",
          "data": {
            "text/plain": [
              "['clforma_model.sav']"
            ]
          },
          "metadata": {
            "tags": []
          },
          "execution_count": 56
        }
      ]
    },
    {
      "cell_type": "code",
      "metadata": {
        "collapsed": true,
        "id": "2RKuV8rMgnO0"
      },
      "source": [
        "loaded_model = joblib.load(filename)\n"
      ],
      "execution_count": null,
      "outputs": []
    },
    {
      "cell_type": "code",
      "metadata": {
        "collapsed": true,
        "id": "x7uv8JUfgnO0"
      },
      "source": [
        "load_predict=loaded_model.predict(X_test)"
      ],
      "execution_count": null,
      "outputs": []
    },
    {
      "cell_type": "code",
      "metadata": {
        "id": "onM7HTFzgnO0",
        "outputId": "b6730be5-9dba-46f8-b54d-5c29987797c2"
      },
      "source": [
        "ClassDetector(load_predict)"
      ],
      "execution_count": null,
      "outputs": [
        {
          "output_type": "execute_result",
          "data": {
            "text/plain": [
              "[0, 0, 1, 1, 0, 0]"
            ]
          },
          "metadata": {
            "tags": []
          },
          "execution_count": 62
        }
      ]
    },
    {
      "cell_type": "code",
      "metadata": {
        "collapsed": true,
        "id": "XtmPJUzTgnO0"
      },
      "source": [
        ""
      ],
      "execution_count": null,
      "outputs": []
    }
  ]
}